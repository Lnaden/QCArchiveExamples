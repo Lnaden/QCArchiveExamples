{
 "cells": [
  {
   "cell_type": "markdown",
   "metadata": {},
   "source": [
    "# Reaction Datasets\n",
    "\n",
    "ReactionDatasets are datasets where the primary index is made up of linear combinations of individual computations. For example, an interaction energy dataset would have an index of the complex subtracted by the individual monomers to obtain a final interaction energy. This idea can extended to standard reaction energies, conformational defect energies, and more. This dataset type has been developed by the QCArchive Team in conjunction with:\n",
    "\n",
    " - [David Sherrill](http://vergil.chemistry.gatech.edu)\n",
    " - Lori Burns\n",
    " - Daniel Nascimento\n",
    " - Dom Sirianni\n",
    "\n",
    "To begin, we can connect to the MolSSI QCArchive server:"
   ]
  },
  {
   "cell_type": "code",
   "execution_count": 8,
   "metadata": {
    "scrolled": true
   },
   "outputs": [
    {
     "name": "stdout",
     "output_type": "stream",
     "text": [
      "FractalClient(server_name='The MolSSI QCArchive Server', address='https://api.qcarchive.molssi.org:443/', username='None')\n"
     ]
    }
   ],
   "source": [
    "import qcportal as ptl\n",
    "client = ptl.FractalClient()\n",
    "print(client)"
   ]
  },
  {
   "cell_type": "markdown",
   "metadata": {},
   "source": [
    "The current `ReactionDataset`s can be explored below:"
   ]
  },
  {
   "cell_type": "code",
   "execution_count": 2,
   "metadata": {},
   "outputs": [
    {
     "data": {
      "text/plain": [
       "['A21',\n",
       " 'A24',\n",
       " 'ACONF',\n",
       " 'AlkBind12',\n",
       " 'AlkIsod14',\n",
       " 'AlkIsomer11',\n",
       " 'Bauza30',\n",
       " 'BH76RC',\n",
       " 'BHPERI26',\n",
       " 'BSR36',\n",
       " 'Butanediol65',\n",
       " 'C20C24',\n",
       " 'CYCONF',\n",
       " 'DBH24',\n",
       " 'DIE60',\n",
       " 'DS14',\n",
       " 'FmH2O10',\n",
       " 'G21EA',\n",
       " 'H2O16Rel5',\n",
       " 'H2O17Rel4',\n",
       " 'HB15',\n",
       " 'HNBrBDE18',\n",
       " 'HSG',\n",
       " 'HTBH38',\n",
       " 'NC15',\n",
       " 'NHTBH38',\n",
       " 'S22',\n",
       " 'S22by5',\n",
       " 'S22by7',\n",
       " 'S66',\n",
       " 'SSI',\n",
       " 'X40']"
      ]
     },
     "execution_count": 2,
     "metadata": {},
     "output_type": "execute_result"
    }
   ],
   "source": [
    "client.list_collections(\"ReactionDataset\")"
   ]
  },
  {
   "cell_type": "markdown",
   "metadata": {},
   "source": [
    "## Exploring a Dataset\n",
    "\n",
    "For this example, we will explore S22 dataset which is a small interaction energy dataset of 22 common dimers such as the water dimer, methane dimer, and more. To obtain this collection:"
   ]
  },
  {
   "cell_type": "code",
   "execution_count": 3,
   "metadata": {},
   "outputs": [
    {
     "name": "stdout",
     "output_type": "stream",
     "text": [
      "ReactionDataset(name=`S22`, id='5c8159a4b6a2de3bd1e74306', client='https://api.qcarchive.molssi.org:443/') \n"
     ]
    }
   ],
   "source": [
    "ds = client.get_collection(\"ReactionDataset\", \"S22\")\n",
    "print(ds)"
   ]
  },
  {
   "cell_type": "markdown",
   "metadata": {},
   "source": [
    "This dataset automatically comes with some ``Contributed Value`` data, or data that has been provided and not explicitly computed. This data is often either experimental data or very costly benchmarks taken from literature. As these Datasets are based off of Pandas DataFrames, we can directly access the underlying DataFrame to see the data provided:"
   ]
  },
  {
   "cell_type": "code",
   "execution_count": 4,
   "metadata": {},
   "outputs": [
    {
     "data": {
      "text/html": [
       "<div>\n",
       "<style scoped>\n",
       "    .dataframe tbody tr th:only-of-type {\n",
       "        vertical-align: middle;\n",
       "    }\n",
       "\n",
       "    .dataframe tbody tr th {\n",
       "        vertical-align: top;\n",
       "    }\n",
       "\n",
       "    .dataframe thead th {\n",
       "        text-align: right;\n",
       "    }\n",
       "</style>\n",
       "<table border=\"1\" class=\"dataframe\">\n",
       "  <thead>\n",
       "    <tr style=\"text-align: right;\">\n",
       "      <th></th>\n",
       "      <th>S220</th>\n",
       "      <th>S22a</th>\n",
       "      <th>S22b</th>\n",
       "    </tr>\n",
       "  </thead>\n",
       "  <tbody>\n",
       "    <tr>\n",
       "      <th>Ammonia Dimer</th>\n",
       "      <td>-3.17</td>\n",
       "      <td>-3.15</td>\n",
       "      <td>-3.133</td>\n",
       "    </tr>\n",
       "    <tr>\n",
       "      <th>Water Dimer</th>\n",
       "      <td>-5.02</td>\n",
       "      <td>-5.07</td>\n",
       "      <td>-4.989</td>\n",
       "    </tr>\n",
       "    <tr>\n",
       "      <th>Formic Acid Dimer</th>\n",
       "      <td>-18.61</td>\n",
       "      <td>-18.81</td>\n",
       "      <td>-18.753</td>\n",
       "    </tr>\n",
       "    <tr>\n",
       "      <th>Formamide Dimer</th>\n",
       "      <td>-15.96</td>\n",
       "      <td>-16.11</td>\n",
       "      <td>-16.062</td>\n",
       "    </tr>\n",
       "    <tr>\n",
       "      <th>Uracil Dimer HB</th>\n",
       "      <td>-20.65</td>\n",
       "      <td>-20.69</td>\n",
       "      <td>-20.641</td>\n",
       "    </tr>\n",
       "  </tbody>\n",
       "</table>\n",
       "</div>"
      ],
      "text/plain": [
       "                    S220   S22a    S22b\n",
       "Ammonia Dimer      -3.17  -3.15  -3.133\n",
       "Water Dimer        -5.02  -5.07  -4.989\n",
       "Formic Acid Dimer -18.61 -18.81 -18.753\n",
       "Formamide Dimer   -15.96 -16.11 -16.062\n",
       "Uracil Dimer HB   -20.65 -20.69 -20.641"
      ]
     },
     "execution_count": 4,
     "metadata": {},
     "output_type": "execute_result"
    }
   ],
   "source": [
    "ds.df.head()"
   ]
  },
  {
   "cell_type": "markdown",
   "metadata": {},
   "source": [
    "Here we used `.head()` to access the first five records in the `ReactionDataset`.\n",
    "\n",
    "All `Collection`s that have `Dataset` in the name (including `ReactionDataset`) have a history available to them to list the data that has been computed. In this case we will filter our history by the DFT method `B2PLYP` and the basis set `def2-SVP`"
   ]
  },
  {
   "cell_type": "code",
   "execution_count": 5,
   "metadata": {},
   "outputs": [
    {
     "data": {
      "text/html": [
       "<div>\n",
       "<style scoped>\n",
       "    .dataframe tbody tr th:only-of-type {\n",
       "        vertical-align: middle;\n",
       "    }\n",
       "\n",
       "    .dataframe tbody tr th {\n",
       "        vertical-align: top;\n",
       "    }\n",
       "\n",
       "    .dataframe thead th {\n",
       "        text-align: right;\n",
       "    }\n",
       "</style>\n",
       "<table border=\"1\" class=\"dataframe\">\n",
       "  <thead>\n",
       "    <tr style=\"text-align: right;\">\n",
       "      <th></th>\n",
       "      <th></th>\n",
       "      <th></th>\n",
       "      <th></th>\n",
       "      <th></th>\n",
       "      <th>stoichiometry</th>\n",
       "    </tr>\n",
       "    <tr>\n",
       "      <th>driver</th>\n",
       "      <th>program</th>\n",
       "      <th>method</th>\n",
       "      <th>basis</th>\n",
       "      <th>keywords</th>\n",
       "      <th></th>\n",
       "    </tr>\n",
       "  </thead>\n",
       "  <tbody>\n",
       "    <tr>\n",
       "      <th rowspan=\"2\" valign=\"top\">energy</th>\n",
       "      <th rowspan=\"2\" valign=\"top\">psi4</th>\n",
       "      <th rowspan=\"2\" valign=\"top\">b2plyp</th>\n",
       "      <th rowspan=\"2\" valign=\"top\">def2-svp</th>\n",
       "      <th>scf_default</th>\n",
       "      <td>cp</td>\n",
       "    </tr>\n",
       "    <tr>\n",
       "      <th>scf_default</th>\n",
       "      <td>default</td>\n",
       "    </tr>\n",
       "  </tbody>\n",
       "</table>\n",
       "</div>"
      ],
      "text/plain": [
       "                                           stoichiometry\n",
       "driver program method basis    keywords                 \n",
       "energy psi4    b2plyp def2-svp scf_default            cp\n",
       "                               scf_default       default"
      ]
     },
     "execution_count": 5,
     "metadata": {},
     "output_type": "execute_result"
    }
   ],
   "source": [
    "ds.list_history(method=\"B2PLYP\", basis=\"def2-SVP\")"
   ]
  },
  {
   "cell_type": "markdown",
   "metadata": {},
   "source": [
    "Here we can see that there are five primary keys in the computation:\n",
    "\n",
    " - `driver` - The type of computation, this can be energy, gradient, Hessian, and properties.\n",
    " - `program` - The program used in the computation.\n",
    " - `method` - The quantum chemistry, semiempierical, AI-model, or force field used in the computation.\n",
    " - `basis` - The basis used in the computation.\n",
    " - `keywords` - A keywords alias used in the computaiton, these keywords aliases reference KeywordSets (see advanced tutorials).\n",
    "\n",
    "In addition, there is also the `stoichiometry` field which is unique to `ReactionDatasets`. There exists several ways to compute the interaction energy (counterpoise-corrected (`cp`), non-counterpoise-corrected (`default`), and Valiron–Mayer function counterpoise (`vmfc`)) as such the `stoichiometry` field allows for the selection of this particular form."
   ]
  },
  {
   "cell_type": "markdown",
   "metadata": {},
   "source": [
    "## Querying Data\n",
    "\n",
    "To obtain the data for the various historical computations we must query them from the server. Here we will automatically pull all relevant computations that match our query:"
   ]
  },
  {
   "cell_type": "code",
   "execution_count": 6,
   "metadata": {},
   "outputs": [
    {
     "data": {
      "text/html": [
       "<div>\n",
       "<style scoped>\n",
       "    .dataframe tbody tr th:only-of-type {\n",
       "        vertical-align: middle;\n",
       "    }\n",
       "\n",
       "    .dataframe tbody tr th {\n",
       "        vertical-align: top;\n",
       "    }\n",
       "\n",
       "    .dataframe thead th {\n",
       "        text-align: right;\n",
       "    }\n",
       "</style>\n",
       "<table border=\"1\" class=\"dataframe\">\n",
       "  <thead>\n",
       "    <tr style=\"text-align: right;\">\n",
       "      <th></th>\n",
       "      <th>S220</th>\n",
       "      <th>S22a</th>\n",
       "      <th>S22b</th>\n",
       "      <th>B2PLYP/def2-svp</th>\n",
       "    </tr>\n",
       "  </thead>\n",
       "  <tbody>\n",
       "    <tr>\n",
       "      <th>Ammonia Dimer</th>\n",
       "      <td>-3.17</td>\n",
       "      <td>-3.15</td>\n",
       "      <td>-3.133</td>\n",
       "      <td>-5.164385</td>\n",
       "    </tr>\n",
       "    <tr>\n",
       "      <th>Water Dimer</th>\n",
       "      <td>-5.02</td>\n",
       "      <td>-5.07</td>\n",
       "      <td>-4.989</td>\n",
       "      <td>-7.966866</td>\n",
       "    </tr>\n",
       "    <tr>\n",
       "      <th>Formic Acid Dimer</th>\n",
       "      <td>-18.61</td>\n",
       "      <td>-18.81</td>\n",
       "      <td>-18.753</td>\n",
       "      <td>-22.767617</td>\n",
       "    </tr>\n",
       "    <tr>\n",
       "      <th>Formamide Dimer</th>\n",
       "      <td>-15.96</td>\n",
       "      <td>-16.11</td>\n",
       "      <td>-16.062</td>\n",
       "      <td>-18.777757</td>\n",
       "    </tr>\n",
       "    <tr>\n",
       "      <th>Uracil Dimer HB</th>\n",
       "      <td>-20.65</td>\n",
       "      <td>-20.69</td>\n",
       "      <td>-20.641</td>\n",
       "      <td>-22.268662</td>\n",
       "    </tr>\n",
       "  </tbody>\n",
       "</table>\n",
       "</div>"
      ],
      "text/plain": [
       "                    S220   S22a    S22b  B2PLYP/def2-svp\n",
       "Ammonia Dimer      -3.17  -3.15  -3.133        -5.164385\n",
       "Water Dimer        -5.02  -5.07  -4.989        -7.966866\n",
       "Formic Acid Dimer -18.61 -18.81 -18.753       -22.767617\n",
       "Formamide Dimer   -15.96 -16.11 -16.062       -18.777757\n",
       "Uracil Dimer HB   -20.65 -20.69 -20.641       -22.268662"
      ]
     },
     "execution_count": 6,
     "metadata": {},
     "output_type": "execute_result"
    }
   ],
   "source": [
    "ds.get_history(method=\"b2plyp\", basis=\"def2-SVP\")\n",
    "ds.df.head()"
   ]
  },
  {
   "cell_type": "markdown",
   "metadata": {},
   "source": [
    "## Stastistics and Visualization\n",
    "\n",
    "Visual statics and plotting can be generated by the ``visualize`` command:"
   ]
  },
  {
   "cell_type": "code",
   "execution_count": 7,
   "metadata": {},
   "outputs": [
    {
     "data": {
      "text/html": [
       "<script type=\"text/javascript\">window.PlotlyConfig = {MathJaxConfig: 'local'};</script><script type=\"text/javascript\">if (window.MathJax) {MathJax.Hub.Config({SVG: {font: \"STIX-Web\"}});}</script><script>requirejs.config({paths: { 'plotly': ['https://cdn.plot.ly/plotly-latest.min']},});if(!window._Plotly) {require(['plotly'],function(plotly) {window._Plotly=plotly;});}</script>"
      ],
      "text/vnd.plotly.v1+html": [
       "<script type=\"text/javascript\">window.PlotlyConfig = {MathJaxConfig: 'local'};</script><script type=\"text/javascript\">if (window.MathJax) {MathJax.Hub.Config({SVG: {font: \"STIX-Web\"}});}</script><script>requirejs.config({paths: { 'plotly': ['https://cdn.plot.ly/plotly-latest.min']},});if(!window._Plotly) {require(['plotly'],function(plotly) {window._Plotly=plotly;});}</script>"
      ]
     },
     "metadata": {},
     "output_type": "display_data"
    },
    {
     "data": {
      "application/vnd.plotly.v1+json": {
       "config": {
        "linkText": "Export to plot.ly",
        "plotlyServerURL": "https://plot.ly",
        "showLink": false
       },
       "data": [
        {
         "name": "Stats",
         "type": "bar",
         "uid": "036f2591-15ff-434a-8677-05053b001476",
         "x": [
          "B2PLYP/def2-svp",
          "B2PLYP/def2-tzvp"
         ],
         "y": [
          1.9678846454402683,
          1.7900124454127313
         ]
        }
       ],
       "layout": {
        "title": {
         "text": "S22 Dataset Statistics"
        },
        "yaxis": {
         "title": {
          "text": "MUE [kcal / mol]"
         }
        }
       }
      },
      "text/html": [
       "<div id=\"def31063-7748-46ef-a11a-e852a1b4c452\" style=\"height: 525px; width: 100%;\" class=\"plotly-graph-div\"></div><script type=\"text/javascript\">require([\"plotly\"], function(Plotly) { window.PLOTLYENV=window.PLOTLYENV || {};window.PLOTLYENV.BASE_URL=\"https://plot.ly\";\n",
       "if (document.getElementById(\"def31063-7748-46ef-a11a-e852a1b4c452\")) {\n",
       "    Plotly.newPlot(\"def31063-7748-46ef-a11a-e852a1b4c452\", [{\"name\": \"Stats\", \"x\": [\"B2PLYP/def2-svp\", \"B2PLYP/def2-tzvp\"], \"y\": [1.9678846454402683, 1.7900124454127313], \"type\": \"bar\", \"uid\": \"036f2591-15ff-434a-8677-05053b001476\"}], {\"title\": {\"text\": \"S22 Dataset Statistics\"}, \"yaxis\": {\"title\": {\"text\": \"MUE [kcal / mol]\"}}}, {\"showLink\": false, \"linkText\": \"Export to plot.ly\", \"plotlyServerURL\": \"https://plot.ly\"}); \n",
       "}\n",
       "});</script><script type=\"text/javascript\">window.addEventListener(\"resize\", function(){if (document.getElementById(\"def31063-7748-46ef-a11a-e852a1b4c452\")) {window._Plotly.Plots.resize(document.getElementById(\"def31063-7748-46ef-a11a-e852a1b4c452\"));};})</script>"
      ],
      "text/vnd.plotly.v1+html": [
       "<div id=\"def31063-7748-46ef-a11a-e852a1b4c452\" style=\"height: 525px; width: 100%;\" class=\"plotly-graph-div\"></div><script type=\"text/javascript\">require([\"plotly\"], function(Plotly) { window.PLOTLYENV=window.PLOTLYENV || {};window.PLOTLYENV.BASE_URL=\"https://plot.ly\";\n",
       "if (document.getElementById(\"def31063-7748-46ef-a11a-e852a1b4c452\")) {\n",
       "    Plotly.newPlot(\"def31063-7748-46ef-a11a-e852a1b4c452\", [{\"name\": \"Stats\", \"x\": [\"B2PLYP/def2-svp\", \"B2PLYP/def2-tzvp\"], \"y\": [1.9678846454402683, 1.7900124454127313], \"type\": \"bar\", \"uid\": \"036f2591-15ff-434a-8677-05053b001476\"}], {\"title\": {\"text\": \"S22 Dataset Statistics\"}, \"yaxis\": {\"title\": {\"text\": \"MUE [kcal / mol]\"}}}, {\"showLink\": false, \"linkText\": \"Export to plot.ly\", \"plotlyServerURL\": \"https://plot.ly\"}); \n",
       "}\n",
       "});</script><script type=\"text/javascript\">window.addEventListener(\"resize\", function(){if (document.getElementById(\"def31063-7748-46ef-a11a-e852a1b4c452\")) {window._Plotly.Plots.resize(document.getElementById(\"def31063-7748-46ef-a11a-e852a1b4c452\"));};})</script>"
      ]
     },
     "metadata": {},
     "output_type": "display_data"
    }
   ],
   "source": [
    "ds.visualize(method=\"B2PLYP\", basis=[\"def2-svp\", \"def2-tzvp\"], bench=\"S220\")"
   ]
  },
  {
   "cell_type": "code",
   "execution_count": 9,
   "metadata": {},
   "outputs": [
    {
     "data": {
      "text/html": [
       "<script type=\"text/javascript\">window.PlotlyConfig = {MathJaxConfig: 'local'};</script><script type=\"text/javascript\">if (window.MathJax) {MathJax.Hub.Config({SVG: {font: \"STIX-Web\"}});}</script><script>requirejs.config({paths: { 'plotly': ['https://cdn.plot.ly/plotly-latest.min']},});if(!window._Plotly) {require(['plotly'],function(plotly) {window._Plotly=plotly;});}</script>"
      ],
      "text/vnd.plotly.v1+html": [
       "<script type=\"text/javascript\">window.PlotlyConfig = {MathJaxConfig: 'local'};</script><script type=\"text/javascript\">if (window.MathJax) {MathJax.Hub.Config({SVG: {font: \"STIX-Web\"}});}</script><script>requirejs.config({paths: { 'plotly': ['https://cdn.plot.ly/plotly-latest.min']},});if(!window._Plotly) {require(['plotly'],function(plotly) {window._Plotly=plotly;});}</script>"
      ]
     },
     "metadata": {},
     "output_type": "display_data"
    },
    {
     "data": {
      "application/vnd.plotly.v1+json": {
       "config": {
        "linkText": "Export to plot.ly",
        "plotlyServerURL": "https://plot.ly",
        "showLink": false
       },
       "data": [
        {
         "box": {
          "visible": true
         },
         "name": "B2PLYP/def2-svp",
         "type": "violin",
         "uid": "f0a01d6e-4d9a-4634-891f-e81254f4a88f",
         "y": [
          2.739434333937073,
          3.8227198219688034,
          2.632910564931624,
          1.9943852675133709,
          2.6867907197896645,
          1.3881680840429556,
          0.7324536546861666,
          0.9457708855984484,
          0.9788701528860181,
          0.1983904633145097,
          0.7853102844647213,
          0.05521566425580349,
          2.8177568358495115,
          4.157617454896712,
          4.116560283299512,
          1.8470538990531327,
          0.5387904175439734,
          1.0539189479994038,
          2.488448291416521,
          1.618661596011858,
          2.7473684960413447,
          2.946866080184777
         ]
        },
        {
         "box": {
          "visible": true
         },
         "name": "B2PLYP/def2-tzvp",
         "type": "violin",
         "uid": "5de79985-32e7-48e4-8593-d95ebfc01dff",
         "y": [
          1.113884194635613,
          6.209539693922314,
          1.7013596333137926,
          0.07572405523324921,
          3.059475305011317,
          1.7650556917960212,
          0.8871004405877341,
          1.0698560707115488,
          1.2282970460017024,
          0.2757791518913262,
          1.182625218665084,
          0.4069815279550335,
          0.970932525711806,
          0.4800537358083439,
          4.71458818546507,
          2.259271043300967,
          0.5647357592594432,
          1.5138257399622725,
          3.28826687548427,
          1.5913687525587932,
          4.360691930315371,
          0.6608612214890073
         ]
        }
       ],
       "layout": {
        "title": {
         "text": "S22 Dataset Statistics"
        },
        "yaxis": {
         "title": {
          "text": "UE [kcal / mol]"
         }
        }
       }
      },
      "text/html": [
       "<div id=\"47580434-3db8-4374-a7f9-73fb6ff17778\" style=\"height: 525px; width: 100%;\" class=\"plotly-graph-div\"></div><script type=\"text/javascript\">require([\"plotly\"], function(Plotly) { window.PLOTLYENV=window.PLOTLYENV || {};window.PLOTLYENV.BASE_URL=\"https://plot.ly\";\n",
       "if (document.getElementById(\"47580434-3db8-4374-a7f9-73fb6ff17778\")) {\n",
       "    Plotly.newPlot(\"47580434-3db8-4374-a7f9-73fb6ff17778\", [{\"box\": {\"visible\": true}, \"name\": \"B2PLYP/def2-svp\", \"y\": [2.739434333937073, 3.8227198219688034, 2.632910564931624, 1.9943852675133709, 2.6867907197896645, 1.3881680840429556, 0.7324536546861666, 0.9457708855984484, 0.9788701528860181, 0.1983904633145097, 0.7853102844647213, 0.05521566425580349, 2.8177568358495115, 4.157617454896712, 4.116560283299512, 1.8470538990531327, 0.5387904175439734, 1.0539189479994038, 2.488448291416521, 1.618661596011858, 2.7473684960413447, 2.946866080184777], \"type\": \"violin\", \"uid\": \"f0a01d6e-4d9a-4634-891f-e81254f4a88f\"}, {\"box\": {\"visible\": true}, \"name\": \"B2PLYP/def2-tzvp\", \"y\": [1.113884194635613, 6.209539693922314, 1.7013596333137926, 0.07572405523324921, 3.059475305011317, 1.7650556917960212, 0.8871004405877341, 1.0698560707115488, 1.2282970460017024, 0.2757791518913262, 1.182625218665084, 0.4069815279550335, 0.970932525711806, 0.4800537358083439, 4.71458818546507, 2.259271043300967, 0.5647357592594432, 1.5138257399622725, 3.28826687548427, 1.5913687525587932, 4.360691930315371, 0.6608612214890073], \"type\": \"violin\", \"uid\": \"5de79985-32e7-48e4-8593-d95ebfc01dff\"}], {\"title\": {\"text\": \"S22 Dataset Statistics\"}, \"yaxis\": {\"title\": {\"text\": \"UE [kcal / mol]\"}}}, {\"showLink\": false, \"linkText\": \"Export to plot.ly\", \"plotlyServerURL\": \"https://plot.ly\"}); \n",
       "}\n",
       "});</script><script type=\"text/javascript\">window.addEventListener(\"resize\", function(){if (document.getElementById(\"47580434-3db8-4374-a7f9-73fb6ff17778\")) {window._Plotly.Plots.resize(document.getElementById(\"47580434-3db8-4374-a7f9-73fb6ff17778\"));};})</script>"
      ],
      "text/vnd.plotly.v1+html": [
       "<div id=\"47580434-3db8-4374-a7f9-73fb6ff17778\" style=\"height: 525px; width: 100%;\" class=\"plotly-graph-div\"></div><script type=\"text/javascript\">require([\"plotly\"], function(Plotly) { window.PLOTLYENV=window.PLOTLYENV || {};window.PLOTLYENV.BASE_URL=\"https://plot.ly\";\n",
       "if (document.getElementById(\"47580434-3db8-4374-a7f9-73fb6ff17778\")) {\n",
       "    Plotly.newPlot(\"47580434-3db8-4374-a7f9-73fb6ff17778\", [{\"box\": {\"visible\": true}, \"name\": \"B2PLYP/def2-svp\", \"y\": [2.739434333937073, 3.8227198219688034, 2.632910564931624, 1.9943852675133709, 2.6867907197896645, 1.3881680840429556, 0.7324536546861666, 0.9457708855984484, 0.9788701528860181, 0.1983904633145097, 0.7853102844647213, 0.05521566425580349, 2.8177568358495115, 4.157617454896712, 4.116560283299512, 1.8470538990531327, 0.5387904175439734, 1.0539189479994038, 2.488448291416521, 1.618661596011858, 2.7473684960413447, 2.946866080184777], \"type\": \"violin\", \"uid\": \"f0a01d6e-4d9a-4634-891f-e81254f4a88f\"}, {\"box\": {\"visible\": true}, \"name\": \"B2PLYP/def2-tzvp\", \"y\": [1.113884194635613, 6.209539693922314, 1.7013596333137926, 0.07572405523324921, 3.059475305011317, 1.7650556917960212, 0.8871004405877341, 1.0698560707115488, 1.2282970460017024, 0.2757791518913262, 1.182625218665084, 0.4069815279550335, 0.970932525711806, 0.4800537358083439, 4.71458818546507, 2.259271043300967, 0.5647357592594432, 1.5138257399622725, 3.28826687548427, 1.5913687525587932, 4.360691930315371, 0.6608612214890073], \"type\": \"violin\", \"uid\": \"5de79985-32e7-48e4-8593-d95ebfc01dff\"}], {\"title\": {\"text\": \"S22 Dataset Statistics\"}, \"yaxis\": {\"title\": {\"text\": \"UE [kcal / mol]\"}}}, {\"showLink\": false, \"linkText\": \"Export to plot.ly\", \"plotlyServerURL\": \"https://plot.ly\"}); \n",
       "}\n",
       "});</script><script type=\"text/javascript\">window.addEventListener(\"resize\", function(){if (document.getElementById(\"47580434-3db8-4374-a7f9-73fb6ff17778\")) {window._Plotly.Plots.resize(document.getElementById(\"47580434-3db8-4374-a7f9-73fb6ff17778\"));};})</script>"
      ]
     },
     "metadata": {},
     "output_type": "display_data"
    }
   ],
   "source": [
    "ds.visualize(method=\"B2PLYP\", basis=[\"def2-svp\", \"def2-tzvp\"], bench=\"S220\", kind=\"violin\")"
   ]
  }
 ],
 "metadata": {
  "kernelspec": {
   "display_name": "Python 3",
   "language": "python",
   "name": "python3"
  },
  "language_info": {
   "codemirror_mode": {
    "name": "ipython",
    "version": 3
   },
   "file_extension": ".py",
   "mimetype": "text/x-python",
   "name": "python",
   "nbconvert_exporter": "python",
   "pygments_lexer": "ipython3",
   "version": "3.7.2"
  }
 },
 "nbformat": 4,
 "nbformat_minor": 2
}
