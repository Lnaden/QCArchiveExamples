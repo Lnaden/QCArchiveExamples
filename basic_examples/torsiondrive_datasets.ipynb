{
 "cells": [
  {
   "cell_type": "markdown",
   "metadata": {},
   "source": [
    "# TorsionDrive Datasets\n",
    "\n",
    "An individual TorsionDrive is specific workflow in the QCArchive ecosystem that computes the energy profile of rotatable dihedral (torsion) for use in Force Field Fitting. This workflow has been developed by the QCArchive Team in conjunction with:\n",
    "\n",
    " - [Lee-Ping Wang](https://chemistry.ucdavis.edu/people/lee-ping-wang)\n",
    " - Chaya Stern\n",
    " - Yudong Qiu\n",
    " - [The Open Force Field Iniative](https://openforcefield.org)\n",
    "\n",
    "The top-level TorsionDrive code can be found [here](https://github.com/lpwgroup/torsiondrive).\n",
    "\n",
    "The TorsionDrive Dataset organizes many TorsionDrives together for data exploration, analysis, and methodology comparison. To begin, we can connect to the MolSSI QCArchive server and query all known TorsionDrive Datasets:"
   ]
  },
  {
   "cell_type": "code",
   "execution_count": 1,
   "metadata": {},
   "outputs": [],
   "source": [
    "import qcportal as ptl\n",
    "client = ptl.FractalClient()"
   ]
  },
  {
   "cell_type": "code",
   "execution_count": 2,
   "metadata": {},
   "outputs": [
    {
     "data": {
      "text/plain": [
       "['OpenFF Fragmenter Phenyl Benchmark']"
      ]
     },
     "execution_count": 2,
     "metadata": {},
     "output_type": "execute_result"
    }
   ],
   "source": [
    "client.list_collections(\"TorsionDriveDataset\")"
   ]
  },
  {
   "cell_type": "markdown",
   "metadata": {},
   "source": [
    "One of the datasets can be obtained in the canonical manner:"
   ]
  },
  {
   "cell_type": "code",
   "execution_count": 3,
   "metadata": {},
   "outputs": [],
   "source": [
    "ds = client.get_collection(\"TorsionDriveDataset\", \"OpenFF Fragmenter Phenyl Benchmark\")"
   ]
  },
  {
   "cell_type": "markdown",
   "metadata": {},
   "source": [
    "## Exploring the Dataset\n",
    "\n",
    "Each row of the dataset is comprised of a `Entry` which contains a list of starting molecules for the TorsionDrive, the dihedral of interest (in this case zero-indexed), and the scan resolution of the dihedral. For the purposes of the underlying DataFrame each row is the name of this `Entry`."
   ]
  },
  {
   "cell_type": "code",
   "execution_count": 4,
   "metadata": {},
   "outputs": [
    {
     "data": {
      "text/html": [
       "<div>\n",
       "<style scoped>\n",
       "    .dataframe tbody tr th:only-of-type {\n",
       "        vertical-align: middle;\n",
       "    }\n",
       "\n",
       "    .dataframe tbody tr th {\n",
       "        vertical-align: top;\n",
       "    }\n",
       "\n",
       "    .dataframe thead th {\n",
       "        text-align: right;\n",
       "    }\n",
       "</style>\n",
       "<table border=\"1\" class=\"dataframe\">\n",
       "  <thead>\n",
       "    <tr style=\"text-align: right;\">\n",
       "      <th></th>\n",
       "    </tr>\n",
       "  </thead>\n",
       "  <tbody>\n",
       "    <tr>\n",
       "      <th>c1c[cH:1][c:2](cc1)[C:3](=[O:4])O</th>\n",
       "    </tr>\n",
       "    <tr>\n",
       "      <th>c1[cH:1][c:2](cnc1)[C:3](=[O:4])O</th>\n",
       "    </tr>\n",
       "    <tr>\n",
       "      <th>[cH:1]1cncc[c:2]1[C:3](=[O:4])O</th>\n",
       "    </tr>\n",
       "    <tr>\n",
       "      <th>[cH:1]1cc(nc[c:2]1[C:3](=[O:4])O)[O-]</th>\n",
       "    </tr>\n",
       "    <tr>\n",
       "      <th>Cc1c[cH:1][c:2](cn1)[C:3](=[O:4])O</th>\n",
       "    </tr>\n",
       "  </tbody>\n",
       "</table>\n",
       "</div>"
      ],
      "text/plain": [
       "Empty DataFrame\n",
       "Columns: []\n",
       "Index: [c1c[cH:1][c:2](cc1)[C:3](=[O:4])O, c1[cH:1][c:2](cnc1)[C:3](=[O:4])O, [cH:1]1cncc[c:2]1[C:3](=[O:4])O, [cH:1]1cc(nc[c:2]1[C:3](=[O:4])O)[O-], Cc1c[cH:1][c:2](cn1)[C:3](=[O:4])O]"
      ]
     },
     "execution_count": 4,
     "metadata": {},
     "output_type": "execute_result"
    }
   ],
   "source": [
    "ds.df.head()"
   ]
  },
  {
   "cell_type": "markdown",
   "metadata": {},
   "source": [
    "New computations are based off specifications which contain many additional parameters to tune the torsiondrive as well as the underlying computational method. Here, we can list all specifications that are attributed to this dataset."
   ]
  },
  {
   "cell_type": "code",
   "execution_count": 5,
   "metadata": {},
   "outputs": [
    {
     "data": {
      "text/html": [
       "<div>\n",
       "<style scoped>\n",
       "    .dataframe tbody tr th:only-of-type {\n",
       "        vertical-align: middle;\n",
       "    }\n",
       "\n",
       "    .dataframe tbody tr th {\n",
       "        vertical-align: top;\n",
       "    }\n",
       "\n",
       "    .dataframe thead th {\n",
       "        text-align: right;\n",
       "    }\n",
       "</style>\n",
       "<table border=\"1\" class=\"dataframe\">\n",
       "  <thead>\n",
       "    <tr style=\"text-align: right;\">\n",
       "      <th></th>\n",
       "      <th>Description</th>\n",
       "    </tr>\n",
       "    <tr>\n",
       "      <th>Name</th>\n",
       "      <th></th>\n",
       "    </tr>\n",
       "  </thead>\n",
       "  <tbody>\n",
       "    <tr>\n",
       "      <th>UFF</th>\n",
       "      <td>UFF gradient evaluation with RDKit</td>\n",
       "    </tr>\n",
       "    <tr>\n",
       "      <th>B3LYP-D3</th>\n",
       "      <td>B3LYP-D3 evaluation with Psi4</td>\n",
       "    </tr>\n",
       "  </tbody>\n",
       "</table>\n",
       "</div>"
      ],
      "text/plain": [
       "                                 Description\n",
       "Name                                        \n",
       "UFF       UFF gradient evaluation with RDKit\n",
       "B3LYP-D3       B3LYP-D3 evaluation with Psi4"
      ]
     },
     "execution_count": 5,
     "metadata": {},
     "output_type": "execute_result"
    }
   ],
   "source": [
    "ds.list_specifications()"
   ]
  },
  {
   "cell_type": "markdown",
   "metadata": {},
   "source": [
    "As we can see here we have several specifications at different levels of theory. It is important to recall that these Collections are \"live\". New specifications can be added and individual TorsionDrives can be under computation. To see the current status of each specification the `status` function is provided:"
   ]
  },
  {
   "cell_type": "code",
   "execution_count": 6,
   "metadata": {},
   "outputs": [
    {
     "data": {
      "text/html": [
       "<div>\n",
       "<style scoped>\n",
       "    .dataframe tbody tr th:only-of-type {\n",
       "        vertical-align: middle;\n",
       "    }\n",
       "\n",
       "    .dataframe tbody tr th {\n",
       "        vertical-align: top;\n",
       "    }\n",
       "\n",
       "    .dataframe thead th {\n",
       "        text-align: right;\n",
       "    }\n",
       "</style>\n",
       "<table border=\"1\" class=\"dataframe\">\n",
       "  <thead>\n",
       "    <tr style=\"text-align: right;\">\n",
       "      <th></th>\n",
       "      <th>UFF</th>\n",
       "      <th>B3LYP-D3</th>\n",
       "    </tr>\n",
       "  </thead>\n",
       "  <tbody>\n",
       "    <tr>\n",
       "      <th>COMPLETE</th>\n",
       "      <td>165</td>\n",
       "      <td>70</td>\n",
       "    </tr>\n",
       "    <tr>\n",
       "      <th>INCOMPLETE</th>\n",
       "      <td>62</td>\n",
       "      <td>157</td>\n",
       "    </tr>\n",
       "  </tbody>\n",
       "</table>\n",
       "</div>"
      ],
      "text/plain": [
       "            UFF  B3LYP-D3\n",
       "COMPLETE    165        70\n",
       "INCOMPLETE   62       157"
      ]
     },
     "execution_count": 6,
     "metadata": {},
     "output_type": "execute_result"
    }
   ],
   "source": [
    "ds.status([\"uff\", \"b3lyp-d3\"])"
   ]
  },
  {
   "cell_type": "code",
   "execution_count": 7,
   "metadata": {},
   "outputs": [
    {
     "data": {
      "text/html": [
       "<div>\n",
       "<style scoped>\n",
       "    .dataframe tbody tr th:only-of-type {\n",
       "        vertical-align: middle;\n",
       "    }\n",
       "\n",
       "    .dataframe tbody tr th {\n",
       "        vertical-align: top;\n",
       "    }\n",
       "\n",
       "    .dataframe thead th {\n",
       "        text-align: right;\n",
       "    }\n",
       "</style>\n",
       "<table border=\"1\" class=\"dataframe\">\n",
       "  <thead>\n",
       "    <tr style=\"text-align: right;\">\n",
       "      <th></th>\n",
       "      <th>B3LYP-D3</th>\n",
       "    </tr>\n",
       "  </thead>\n",
       "  <tbody>\n",
       "    <tr>\n",
       "      <th>c1c[cH:1][c:2](cc1)[C:3](=[O:4])O</th>\n",
       "      <td>COMPLETE</td>\n",
       "    </tr>\n",
       "    <tr>\n",
       "      <th>[cH:1]1cc(nc[c:2]1[C:3](=[O:4])O)[O-]</th>\n",
       "      <td>COMPLETE</td>\n",
       "    </tr>\n",
       "    <tr>\n",
       "      <th>[cH:1]1[c:2](cncc1N)[C:3](=[O:4])O</th>\n",
       "      <td>COMPLETE</td>\n",
       "    </tr>\n",
       "    <tr>\n",
       "      <th>CNc1c[c:2]([cH:1]cn1)[C:3](=[O:4])O</th>\n",
       "      <td>COMPLETE</td>\n",
       "    </tr>\n",
       "    <tr>\n",
       "      <th>C[N+](C)(C)c1c[c:2]([cH:1]cn1)[C:3](=[O:4])O</th>\n",
       "      <td>COMPLETE</td>\n",
       "    </tr>\n",
       "  </tbody>\n",
       "</table>\n",
       "</div>"
      ],
      "text/plain": [
       "                                              B3LYP-D3\n",
       "c1c[cH:1][c:2](cc1)[C:3](=[O:4])O             COMPLETE\n",
       "[cH:1]1cc(nc[c:2]1[C:3](=[O:4])O)[O-]         COMPLETE\n",
       "[cH:1]1[c:2](cncc1N)[C:3](=[O:4])O            COMPLETE\n",
       "CNc1c[c:2]([cH:1]cn1)[C:3](=[O:4])O           COMPLETE\n",
       "C[N+](C)(C)c1c[c:2]([cH:1]cn1)[C:3](=[O:4])O  COMPLETE"
      ]
     },
     "execution_count": 7,
     "metadata": {},
     "output_type": "execute_result"
    }
   ],
   "source": [
    "ds.status([\"b3lyp-d3\"], collapse=False, status=\"COMPLETE\").head()"
   ]
  },
  {
   "cell_type": "markdown",
   "metadata": {},
   "source": [
    "## Visualizing the TorsionDrives\n",
    "\n",
    "TorsionDrives can be visualized via the ``visualize`` command. Multiple torsiondrives can be plotted on the same graph for comparison."
   ]
  },
  {
   "cell_type": "code",
   "execution_count": 8,
   "metadata": {},
   "outputs": [
    {
     "data": {
      "text/html": [
       "<script type=\"text/javascript\">window.PlotlyConfig = {MathJaxConfig: 'local'};</script><script type=\"text/javascript\">if (window.MathJax) {MathJax.Hub.Config({SVG: {font: \"STIX-Web\"}});}</script><script>requirejs.config({paths: { 'plotly': ['https://cdn.plot.ly/plotly-latest.min']},});if(!window._Plotly) {require(['plotly'],function(plotly) {window._Plotly=plotly;});}</script>"
      ],
      "text/vnd.plotly.v1+html": [
       "<script type=\"text/javascript\">window.PlotlyConfig = {MathJaxConfig: 'local'};</script><script type=\"text/javascript\">if (window.MathJax) {MathJax.Hub.Config({SVG: {font: \"STIX-Web\"}});}</script><script>requirejs.config({paths: { 'plotly': ['https://cdn.plot.ly/plotly-latest.min']},});if(!window._Plotly) {require(['plotly'],function(plotly) {window._Plotly=plotly;});}</script>"
      ]
     },
     "metadata": {},
     "output_type": "display_data"
    },
    {
     "data": {
      "application/vnd.plotly.v1+json": {
       "config": {
        "linkText": "Export to plot.ly",
        "plotlyServerURL": "https://plot.ly",
        "showLink": false
       },
       "data": [
        {
         "mode": "lines+markers",
         "name": "[CH3:4][O:3][c:2]1[cH:1]cccc1",
         "type": "scatter",
         "uid": "fd951e70-55ef-4a81-9528-fc6720ae9651",
         "x": [
          -165,
          -150,
          -135,
          -120,
          -105,
          -90,
          -75,
          -60,
          -45,
          -30,
          -15,
          0,
          15,
          30,
          45,
          60,
          75,
          90,
          105,
          120,
          135,
          150,
          165,
          180
         ],
         "y": [
          1.371,
          5.132,
          9.891,
          12.92,
          14.032,
          14.394,
          13.921,
          12.638,
          9.364,
          4.74,
          1.24,
          0,
          1.24,
          4.74,
          9.364,
          12.638,
          13.921,
          14.394,
          14.032,
          12.92,
          9.891,
          5.132,
          1.371,
          0
         ]
        },
        {
         "mode": "lines+markers",
         "name": "[CH3:4][O:3][c:2]1[cH:1]ccnc1",
         "type": "scatter",
         "uid": "dc4ea4b2-52e7-4ee0-bab6-cc1196781070",
         "x": [
          -165,
          -150,
          -135,
          -120,
          -105,
          -90,
          -75,
          -60,
          -45,
          -30,
          -15,
          0,
          15,
          30,
          45,
          60,
          75,
          90,
          105,
          120,
          135,
          150,
          165,
          180
         ],
         "y": [
          1.409,
          5.27,
          10.236,
          13.445,
          14.483,
          14.793,
          14.275,
          12.917,
          9.7,
          5.137,
          1.619,
          0.361,
          1.619,
          5.137,
          9.7,
          12.917,
          14.275,
          14.793,
          14.483,
          13.445,
          10.236,
          5.27,
          1.409,
          0
         ]
        }
       ],
       "layout": {
        "title": {
         "text": "TorsionDriveDataset 1-D Plot [spec=B3LYP-D3]"
        },
        "xaxis": {
         "range": [
          -175,
          190
         ],
         "title": {
          "text": "Dihedral Angle [degrees]"
         },
         "zeroline": false
        },
        "yaxis": {
         "title": {
          "text": "Relative Energy [kJ / mol]"
         },
         "zeroline": true
        }
       }
      },
      "text/html": [
       "<div id=\"44599e6d-cff1-41b1-9895-135027fbdb76\" style=\"height: 525px; width: 100%;\" class=\"plotly-graph-div\"></div><script type=\"text/javascript\">require([\"plotly\"], function(Plotly) { window.PLOTLYENV=window.PLOTLYENV || {};window.PLOTLYENV.BASE_URL=\"https://plot.ly\";\n",
       "if (document.getElementById(\"44599e6d-cff1-41b1-9895-135027fbdb76\")) {\n",
       "    Plotly.newPlot(\"44599e6d-cff1-41b1-9895-135027fbdb76\", [{\"mode\": \"lines+markers\", \"name\": \"[CH3:4][O:3][c:2]1[cH:1]cccc1\", \"x\": [-165, -150, -135, -120, -105, -90, -75, -60, -45, -30, -15, 0, 15, 30, 45, 60, 75, 90, 105, 120, 135, 150, 165, 180], \"y\": [1.371, 5.132, 9.891, 12.92, 14.032, 14.394, 13.921, 12.638, 9.364, 4.74, 1.24, 0.0, 1.24, 4.74, 9.364, 12.638, 13.921, 14.394, 14.032, 12.92, 9.891, 5.132, 1.371, 0.0], \"type\": \"scatter\", \"uid\": \"fd951e70-55ef-4a81-9528-fc6720ae9651\"}, {\"mode\": \"lines+markers\", \"name\": \"[CH3:4][O:3][c:2]1[cH:1]ccnc1\", \"x\": [-165, -150, -135, -120, -105, -90, -75, -60, -45, -30, -15, 0, 15, 30, 45, 60, 75, 90, 105, 120, 135, 150, 165, 180], \"y\": [1.409, 5.27, 10.236, 13.445, 14.483, 14.793, 14.275, 12.917, 9.7, 5.137, 1.619, 0.361, 1.619, 5.137, 9.7, 12.917, 14.275, 14.793, 14.483, 13.445, 10.236, 5.27, 1.409, 0.0], \"type\": \"scatter\", \"uid\": \"dc4ea4b2-52e7-4ee0-bab6-cc1196781070\"}], {\"title\": {\"text\": \"TorsionDriveDataset 1-D Plot [spec=B3LYP-D3]\"}, \"xaxis\": {\"range\": [-175, 190], \"title\": {\"text\": \"Dihedral Angle [degrees]\"}, \"zeroline\": false}, \"yaxis\": {\"title\": {\"text\": \"Relative Energy [kJ / mol]\"}, \"zeroline\": true}}, {\"showLink\": false, \"linkText\": \"Export to plot.ly\", \"plotlyServerURL\": \"https://plot.ly\"}); \n",
       "}\n",
       "});</script><script type=\"text/javascript\">window.addEventListener(\"resize\", function(){if (document.getElementById(\"44599e6d-cff1-41b1-9895-135027fbdb76\")) {window._Plotly.Plots.resize(document.getElementById(\"44599e6d-cff1-41b1-9895-135027fbdb76\"));};})</script>"
      ],
      "text/vnd.plotly.v1+html": [
       "<div id=\"44599e6d-cff1-41b1-9895-135027fbdb76\" style=\"height: 525px; width: 100%;\" class=\"plotly-graph-div\"></div><script type=\"text/javascript\">require([\"plotly\"], function(Plotly) { window.PLOTLYENV=window.PLOTLYENV || {};window.PLOTLYENV.BASE_URL=\"https://plot.ly\";\n",
       "if (document.getElementById(\"44599e6d-cff1-41b1-9895-135027fbdb76\")) {\n",
       "    Plotly.newPlot(\"44599e6d-cff1-41b1-9895-135027fbdb76\", [{\"mode\": \"lines+markers\", \"name\": \"[CH3:4][O:3][c:2]1[cH:1]cccc1\", \"x\": [-165, -150, -135, -120, -105, -90, -75, -60, -45, -30, -15, 0, 15, 30, 45, 60, 75, 90, 105, 120, 135, 150, 165, 180], \"y\": [1.371, 5.132, 9.891, 12.92, 14.032, 14.394, 13.921, 12.638, 9.364, 4.74, 1.24, 0.0, 1.24, 4.74, 9.364, 12.638, 13.921, 14.394, 14.032, 12.92, 9.891, 5.132, 1.371, 0.0], \"type\": \"scatter\", \"uid\": \"fd951e70-55ef-4a81-9528-fc6720ae9651\"}, {\"mode\": \"lines+markers\", \"name\": \"[CH3:4][O:3][c:2]1[cH:1]ccnc1\", \"x\": [-165, -150, -135, -120, -105, -90, -75, -60, -45, -30, -15, 0, 15, 30, 45, 60, 75, 90, 105, 120, 135, 150, 165, 180], \"y\": [1.409, 5.27, 10.236, 13.445, 14.483, 14.793, 14.275, 12.917, 9.7, 5.137, 1.619, 0.361, 1.619, 5.137, 9.7, 12.917, 14.275, 14.793, 14.483, 13.445, 10.236, 5.27, 1.409, 0.0], \"type\": \"scatter\", \"uid\": \"dc4ea4b2-52e7-4ee0-bab6-cc1196781070\"}], {\"title\": {\"text\": \"TorsionDriveDataset 1-D Plot [spec=B3LYP-D3]\"}, \"xaxis\": {\"range\": [-175, 190], \"title\": {\"text\": \"Dihedral Angle [degrees]\"}, \"zeroline\": false}, \"yaxis\": {\"title\": {\"text\": \"Relative Energy [kJ / mol]\"}, \"zeroline\": true}}, {\"showLink\": false, \"linkText\": \"Export to plot.ly\", \"plotlyServerURL\": \"https://plot.ly\"}); \n",
       "}\n",
       "});</script><script type=\"text/javascript\">window.addEventListener(\"resize\", function(){if (document.getElementById(\"44599e6d-cff1-41b1-9895-135027fbdb76\")) {window._Plotly.Plots.resize(document.getElementById(\"44599e6d-cff1-41b1-9895-135027fbdb76\"));};})</script>"
      ]
     },
     "metadata": {},
     "output_type": "display_data"
    }
   ],
   "source": [
    "ds.visualize([\"[CH3:4][O:3][c:2]1[cH:1]cccc1\", \"[CH3:4][O:3][c:2]1[cH:1]ccnc1\"], \"B3LYP-D3\", units=\"kJ / mol\")"
   ]
  },
  {
   "cell_type": "markdown",
   "metadata": {},
   "source": [
    "## Computational Requirements\n",
    "\n",
    "We can check the number of optimizations and individual gradient evaluations by using the ``count`` method. By default the ``count`` method shows the number of inidividual geometry optimizations:"
   ]
  },
  {
   "cell_type": "code",
   "execution_count": 9,
   "metadata": {},
   "outputs": [
    {
     "data": {
      "text/html": [
       "<div>\n",
       "<style scoped>\n",
       "    .dataframe tbody tr th:only-of-type {\n",
       "        vertical-align: middle;\n",
       "    }\n",
       "\n",
       "    .dataframe tbody tr th {\n",
       "        vertical-align: top;\n",
       "    }\n",
       "\n",
       "    .dataframe thead th {\n",
       "        text-align: right;\n",
       "    }\n",
       "</style>\n",
       "<table border=\"1\" class=\"dataframe\">\n",
       "  <thead>\n",
       "    <tr style=\"text-align: right;\">\n",
       "      <th></th>\n",
       "      <th>UFF</th>\n",
       "      <th>B3LYP-D3</th>\n",
       "    </tr>\n",
       "  </thead>\n",
       "  <tbody>\n",
       "    <tr>\n",
       "      <th>[CH3:4][O:3][c:2]1[cH:1]cccc1</th>\n",
       "      <td>49</td>\n",
       "      <td>49</td>\n",
       "    </tr>\n",
       "    <tr>\n",
       "      <th>[CH3:4][O:3][c:2]1[cH:1]ccnc1</th>\n",
       "      <td>49</td>\n",
       "      <td>53</td>\n",
       "    </tr>\n",
       "  </tbody>\n",
       "</table>\n",
       "</div>"
      ],
      "text/plain": [
       "                               UFF  B3LYP-D3\n",
       "[CH3:4][O:3][c:2]1[cH:1]cccc1   49        49\n",
       "[CH3:4][O:3][c:2]1[cH:1]ccnc1   49        53"
      ]
     },
     "execution_count": 9,
     "metadata": {},
     "output_type": "execute_result"
    }
   ],
   "source": [
    "ds.counts([\"[CH3:4][O:3][c:2]1[cH:1]cccc1\", \"[CH3:4][O:3][c:2]1[cH:1]ccnc1\"])"
   ]
  },
  {
   "cell_type": "markdown",
   "metadata": {},
   "source": [
    "In addition, to individual optimization runs we can also find a sum of how many gradient evaluations were performed in the course of the run."
   ]
  },
  {
   "cell_type": "code",
   "execution_count": 10,
   "metadata": {},
   "outputs": [
    {
     "data": {
      "text/html": [
       "<div>\n",
       "<style scoped>\n",
       "    .dataframe tbody tr th:only-of-type {\n",
       "        vertical-align: middle;\n",
       "    }\n",
       "\n",
       "    .dataframe tbody tr th {\n",
       "        vertical-align: top;\n",
       "    }\n",
       "\n",
       "    .dataframe thead th {\n",
       "        text-align: right;\n",
       "    }\n",
       "</style>\n",
       "<table border=\"1\" class=\"dataframe\">\n",
       "  <thead>\n",
       "    <tr style=\"text-align: right;\">\n",
       "      <th></th>\n",
       "      <th>UFF</th>\n",
       "      <th>B3LYP-D3</th>\n",
       "    </tr>\n",
       "  </thead>\n",
       "  <tbody>\n",
       "    <tr>\n",
       "      <th>[CH3:4][O:3][c:2]1[cH:1]cccc1</th>\n",
       "      <td>606</td>\n",
       "      <td>601</td>\n",
       "    </tr>\n",
       "    <tr>\n",
       "      <th>[CH3:4][O:3][c:2]1[cH:1]ccnc1</th>\n",
       "      <td>538</td>\n",
       "      <td>680</td>\n",
       "    </tr>\n",
       "  </tbody>\n",
       "</table>\n",
       "</div>"
      ],
      "text/plain": [
       "                               UFF  B3LYP-D3\n",
       "[CH3:4][O:3][c:2]1[cH:1]cccc1  606       601\n",
       "[CH3:4][O:3][c:2]1[cH:1]ccnc1  538       680"
      ]
     },
     "execution_count": 10,
     "metadata": {},
     "output_type": "execute_result"
    }
   ],
   "source": [
    "ds.counts([\"[CH3:4][O:3][c:2]1[cH:1]cccc1\", \"[CH3:4][O:3][c:2]1[cH:1]ccnc1\"], count_gradients=True)"
   ]
  },
  {
   "cell_type": "markdown",
   "metadata": {},
   "source": [
    "## Deep data inspection\n",
    "\n",
    "The TorsionDriveDataset also allows exploration of every single computation and molecule created during the individual TorsionDrive executions. Examples below this point will only be for those who wish to explore all of the individual computations in a TorsionDrive Dataset.\n",
    "\n",
    "These TorsionDrive Datasets are different from canonical ``ReactionDataset`` and ``Dataset`` collections as each item in the underlying Pandas DataFrame is a TorsionDriveRecord object which contains links to all data used in the TorsionDrive. We can observe the these in the underlying DataFrame:"
   ]
  },
  {
   "cell_type": "code",
   "execution_count": 11,
   "metadata": {},
   "outputs": [
    {
     "data": {
      "text/html": [
       "<div>\n",
       "<style scoped>\n",
       "    .dataframe tbody tr th:only-of-type {\n",
       "        vertical-align: middle;\n",
       "    }\n",
       "\n",
       "    .dataframe tbody tr th {\n",
       "        vertical-align: top;\n",
       "    }\n",
       "\n",
       "    .dataframe thead th {\n",
       "        text-align: right;\n",
       "    }\n",
       "</style>\n",
       "<table border=\"1\" class=\"dataframe\">\n",
       "  <thead>\n",
       "    <tr style=\"text-align: right;\">\n",
       "      <th></th>\n",
       "      <th>UFF</th>\n",
       "      <th>B3LYP-D3</th>\n",
       "    </tr>\n",
       "  </thead>\n",
       "  <tbody>\n",
       "    <tr>\n",
       "      <th>c1c[cH:1][c:2](cc1)[C:3](=[O:4])O</th>\n",
       "      <td>TorsionDriveRecord(id='5c951108cc2095305535f47...</td>\n",
       "      <td>TorsionDriveRecord(id='5c955144cc209530555d9af...</td>\n",
       "    </tr>\n",
       "    <tr>\n",
       "      <th>c1[cH:1][c:2](cnc1)[C:3](=[O:4])O</th>\n",
       "      <td>TorsionDriveRecord(id='5c951108cc2095305535f48...</td>\n",
       "      <td>TorsionDriveRecord(id='5c955144cc209530555d9b1...</td>\n",
       "    </tr>\n",
       "    <tr>\n",
       "      <th>[cH:1]1cncc[c:2]1[C:3](=[O:4])O</th>\n",
       "      <td>TorsionDriveRecord(id='5c951108cc2095305535f48...</td>\n",
       "      <td>TorsionDriveRecord(id='5c955144cc209530555d9b2...</td>\n",
       "    </tr>\n",
       "    <tr>\n",
       "      <th>[cH:1]1cc(nc[c:2]1[C:3](=[O:4])O)[O-]</th>\n",
       "      <td>TorsionDriveRecord(id='5c951108cc2095305535f49...</td>\n",
       "      <td>TorsionDriveRecord(id='5c955144cc209530555d9b3...</td>\n",
       "    </tr>\n",
       "    <tr>\n",
       "      <th>Cc1c[cH:1][c:2](cn1)[C:3](=[O:4])O</th>\n",
       "      <td>TorsionDriveRecord(id='5c951108cc2095305535f4a...</td>\n",
       "      <td>TorsionDriveRecord(id='5c955144cc209530555d9b5...</td>\n",
       "    </tr>\n",
       "  </tbody>\n",
       "</table>\n",
       "</div>"
      ],
      "text/plain": [
       "                                                                                     UFF  \\\n",
       "c1c[cH:1][c:2](cc1)[C:3](=[O:4])O      TorsionDriveRecord(id='5c951108cc2095305535f47...   \n",
       "c1[cH:1][c:2](cnc1)[C:3](=[O:4])O      TorsionDriveRecord(id='5c951108cc2095305535f48...   \n",
       "[cH:1]1cncc[c:2]1[C:3](=[O:4])O        TorsionDriveRecord(id='5c951108cc2095305535f48...   \n",
       "[cH:1]1cc(nc[c:2]1[C:3](=[O:4])O)[O-]  TorsionDriveRecord(id='5c951108cc2095305535f49...   \n",
       "Cc1c[cH:1][c:2](cn1)[C:3](=[O:4])O     TorsionDriveRecord(id='5c951108cc2095305535f4a...   \n",
       "\n",
       "                                                                                B3LYP-D3  \n",
       "c1c[cH:1][c:2](cc1)[C:3](=[O:4])O      TorsionDriveRecord(id='5c955144cc209530555d9af...  \n",
       "c1[cH:1][c:2](cnc1)[C:3](=[O:4])O      TorsionDriveRecord(id='5c955144cc209530555d9b1...  \n",
       "[cH:1]1cncc[c:2]1[C:3](=[O:4])O        TorsionDriveRecord(id='5c955144cc209530555d9b2...  \n",
       "[cH:1]1cc(nc[c:2]1[C:3](=[O:4])O)[O-]  TorsionDriveRecord(id='5c955144cc209530555d9b3...  \n",
       "Cc1c[cH:1][c:2](cn1)[C:3](=[O:4])O     TorsionDriveRecord(id='5c955144cc209530555d9b5...  "
      ]
     },
     "execution_count": 11,
     "metadata": {},
     "output_type": "execute_result"
    }
   ],
   "source": [
    "ds.df.head()"
   ]
  },
  {
   "cell_type": "markdown",
   "metadata": {},
   "source": [
    "We can then begin to explore an individual TorsionDriveRecord by first pulling it from the DataFrame:"
   ]
  },
  {
   "cell_type": "code",
   "execution_count": 13,
   "metadata": {},
   "outputs": [],
   "source": [
    "td = ds.df.loc[\"[CH3:4][O:3][c:2]1[cH:1]cccc1\", \"B3LYP-D3\"]"
   ]
  },
  {
   "cell_type": "markdown",
   "metadata": {},
   "source": [
    "We can then request a variety of attribues off this TorsionDriveRecord:"
   ]
  },
  {
   "cell_type": "code",
   "execution_count": 21,
   "metadata": {},
   "outputs": [
    {
     "name": "stdout",
     "output_type": "stream",
     "text": [
      "Torsion of interest                  : [(3, 5, 7, 6)]\n",
      "Final optimization energy in hartree: -346.5319986074462\n"
     ]
    }
   ],
   "source": [
    "print(\"Torsion of interest                : {}\".format(td.keywords.dihedrals))\n",
    "print(\"Final optimization energy in hartree: {}\".format(td.get_final_energies(180)))"
   ]
  },
  {
   "cell_type": "code",
   "execution_count": 15,
   "metadata": {},
   "outputs": [
    {
     "data": {
      "text/plain": [
       "<    Geometry (in Angstrom), charge = 0.0, multiplicity = 1:\n",
       "\n",
       "       Center              X                  Y                   Z       \n",
       "    ------------   -----------------  -----------------  -----------------\n",
       "    C                 1.910474539862    -1.047932831812    -0.168670139925\n",
       "    C                 2.921527884715    -1.630741644773     0.608526163928\n",
       "    C                 0.815987295316    -0.462827506175     0.468447828537\n",
       "    C                 2.837053289244    -1.627061592989     1.998067984103\n",
       "    C                 0.716067429968    -0.450872054168     1.865995999365\n",
       "    C                 1.732260344978    -1.036393969272     2.637682785273\n",
       "    C                 0.666068295846    -0.511464231234     4.709873319788\n",
       "    O                 1.738378702472    -1.081860626499     3.995358172958\n",
       "    H                 1.979016667875    -1.052014036964    -1.258845172299\n",
       "    H                 3.785889597238    -2.093410445411     0.124710891608\n",
       "    H                 0.019386153108    -0.004218627182    -0.123668878179\n",
       "    H                 3.613569129413    -2.075466289619     2.621151077540\n",
       "    H                -0.150614639955     0.013556197194     2.336527516087\n",
       "    H                 0.882048889278    -0.664382003872     5.776169463369\n",
       "    H                -0.297489902069    -0.997534105395     4.468137560386\n",
       "    H                 0.571204168402     0.573471322326     4.517386649312\n",
       ">"
      ]
     },
     "execution_count": 15,
     "metadata": {},
     "output_type": "execute_result"
    }
   ],
   "source": [
    "td.get_final_molecules(180)"
   ]
  },
  {
   "cell_type": "markdown",
   "metadata": {},
   "source": [
    "The `Molecule` object has a `measure` attribute so that we check the dihedral angle is in fact 180 degrees."
   ]
  },
  {
   "cell_type": "code",
   "execution_count": 16,
   "metadata": {},
   "outputs": [
    {
     "data": {
      "text/plain": [
       "'3-5-7-6 dihedral in degrees: 179.99999995886662'"
      ]
     },
     "execution_count": 16,
     "metadata": {},
     "output_type": "execute_result"
    }
   ],
   "source": [
    "\"3-5-7-6 dihedral in degrees: {}\".format(td.get_final_molecules(180).measure([3, 5, 7, 6]))"
   ]
  },
  {
   "cell_type": "markdown",
   "metadata": {},
   "source": [
    "## Exploring connection optimizations\n",
    "\n",
    "If desired, we can pull each geometry optimization belonging to the torsiondirve with the `get_history` function. In this case, we will pull the lowest energy optimization for the 180 degree dihedral:"
   ]
  },
  {
   "cell_type": "code",
   "execution_count": null,
   "metadata": {},
   "outputs": [],
   "source": [
    "opt = td.get_history(180, minimum=True)\n",
    "opt"
   ]
  },
  {
   "cell_type": "code",
   "execution_count": null,
   "metadata": {},
   "outputs": [],
   "source": [
    "opt.energies"
   ]
  },
  {
   "cell_type": "markdown",
   "metadata": {},
   "source": [
    "## Exploring individual gradient evaluations\n",
    "\n",
    "We can go even deeper in the calculations to look at each gradient calculation of the `Optimization` calculation if we so choose and see even more details about how the `TorsionDrive` object was constructed."
   ]
  },
  {
   "cell_type": "code",
   "execution_count": null,
   "metadata": {},
   "outputs": [],
   "source": [
    "result = opt.get_trajectory()[-1]"
   ]
  },
  {
   "cell_type": "code",
   "execution_count": null,
   "metadata": {},
   "outputs": [],
   "source": [
    "print(\"Program:                   {}\".format(result.program))\n",
    "print(\"Number of Basis Functions: {}\".format(result.properties.calcinfo_nbasis))\n",
    "print(\"Total execution time:      {:.2f}s\".format(result.provenance.wall_time))"
   ]
  },
  {
   "cell_type": "markdown",
   "metadata": {},
   "source": [
    "This example also contains the Wiberg-Lowdin indices. As this is specific to Psi4 this data resides inside the `extras` tag rather than general properties. This data is not yet well curated and currently exists as a 1D list. We will first pull this data and transform it to a 2-D array:"
   ]
  },
  {
   "cell_type": "code",
   "execution_count": null,
   "metadata": {},
   "outputs": [],
   "source": [
    "import numpy as np\n",
    "wiberg = np.array(result.extras[\"local_qcvars\"][\"WIBERG_LOWDIN_INDICES\"]).reshape(-1, 16)"
   ]
  },
  {
   "cell_type": "markdown",
   "metadata": {},
   "source": [
    "As this particular example is exploring the `3-5-7-6` dihedral we would find the most use in the `5-7` bond. This can be aquired as follows: "
   ]
  },
  {
   "cell_type": "code",
   "execution_count": null,
   "metadata": {},
   "outputs": [],
   "source": [
    "wiberg[5, 7]"
   ]
  },
  {
   "cell_type": "markdown",
   "metadata": {},
   "source": [
    "We can continue to explore these results and even obtain the standard Psi4 logging information!"
   ]
  },
  {
   "cell_type": "code",
   "execution_count": null,
   "metadata": {},
   "outputs": [],
   "source": [
    "print(result.get_stdout()[:1000])"
   ]
  }
 ],
 "metadata": {
  "kernelspec": {
   "display_name": "Python 3",
   "language": "python",
   "name": "python3"
  },
  "language_info": {
   "codemirror_mode": {
    "name": "ipython",
    "version": 3
   },
   "file_extension": ".py",
   "mimetype": "text/x-python",
   "name": "python",
   "nbconvert_exporter": "python",
   "pygments_lexer": "ipython3",
   "version": "3.7.2"
  }
 },
 "nbformat": 4,
 "nbformat_minor": 2
}
